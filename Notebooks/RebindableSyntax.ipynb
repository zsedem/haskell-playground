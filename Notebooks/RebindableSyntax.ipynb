{
 "cells": [
  {
   "cell_type": "code",
   "execution_count": 1,
   "metadata": {
    "collapsed": false
   },
   "outputs": [],
   "source": [
    "{-# LANGUAGE RebindableSyntax #-}\n",
    "import ClassyPrelude()\n",
    "import qualified ClassyPrelude as P\n",
    "\n",
    "\n",
    "class Boolable bool where\n",
    "    toBool :: bool -> Bool\n",
    "\n",
    "instance Boolable Int where\n",
    "    toBool 0 = False\n",
    "    toBool _ = True\n",
    "\n",
    "instance Boolable Integer where\n",
    "    toBool 0 = False\n",
    "    toBool _ = True\n",
    "\n",
    "instance Boolable Float where\n",
    "    toBool 0 = False\n",
    "    toBool _ = True\n",
    "\n",
    "instance Boolable Double where\n",
    "    toBool 0 = False\n",
    "    toBool _ = True\n",
    "\n",
    "instance Boolable (Maybe a) where\n",
    "    toBool Nothing = False\n",
    "    toBool _ = True\n",
    "\n",
    "instance Boolable [a] where\n",
    "    toBool [] = False\n",
    "    toBool _ = True\n",
    "\n",
    "-- instance (Num a, Eq a) => Boolable a where\n",
    "--     toBool num = negate num == num\n",
    "\n",
    "ifThenElse :: Boolable bool => bool -> a -> a -> a \n",
    "ifThenElse boolable true false = case toBool boolable of\n",
    "                        True -> true\n",
    "                        False -> false"
   ]
  },
  {
   "cell_type": "code",
   "execution_count": 3,
   "metadata": {
    "collapsed": false
   },
   "outputs": [
    {
     "data": {
      "text/plain": [
       "\"falsy\""
      ]
     },
     "metadata": {},
     "output_type": "display_data"
    },
    {
     "data": {
      "text/plain": [
       "\"truthy\""
      ]
     },
     "metadata": {},
     "output_type": "display_data"
    },
    {
     "data": {
      "text/plain": [
       "\"truthy\""
      ]
     },
     "metadata": {},
     "output_type": "display_data"
    }
   ],
   "source": [
    "if 0 then undefined else \"falsy\"\n",
    "if 2 then \"truthy\" else undefined\n",
    "if [] then undefined else \"truthy\""
   ]
  },
  {
   "cell_type": "code",
   "execution_count": null,
   "metadata": {
    "collapsed": true
   },
   "outputs": [],
   "source": []
  }
 ],
 "metadata": {
  "kernelspec": {
   "display_name": "Haskell",
   "language": "haskell",
   "name": "haskell"
  }
 },
 "nbformat": 4,
 "nbformat_minor": 0
}
