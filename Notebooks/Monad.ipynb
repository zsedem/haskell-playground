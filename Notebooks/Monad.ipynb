{
 "cells": [
  {
   "cell_type": "code",
   "execution_count": null,
   "metadata": {
    "collapsed": true
   },
   "outputs": [],
   "source": [
    "{-# LANGUAGE PolyKinds #-}\n",
    "{-# LANGUAGE TypeOperators #-}\n",
    "{-# LANGUAGE TypeSynonymInstances #-}\n",
    "{-# LANGUAGE MultiParamTypeClasses #-}\n",
    "{-# LANGUAGE RankNTypes #-}\n",
    "\n",
    "\n",
    "import Prelude hiding ((.), id, Functor, Monad)"
   ]
  },
  {
   "cell_type": "markdown",
   "metadata": {},
   "source": [
    "# Category"
   ]
  },
  {
   "cell_type": "code",
   "execution_count": null,
   "metadata": {
    "collapsed": true
   },
   "outputs": [],
   "source": [
    "-- Morphisms\n",
    "type (a ~> b) c = c a b\n",
    "\n",
    "class Category (c :: k -> k -> *) where\n",
    "  id :: (a ~> a) c\n",
    "  (.) :: (y ~> z) c -> (x ~> y) c -> (x ~> z) c\n",
    "\n"
   ]
  },
  {
   "cell_type": "markdown",
   "metadata": {},
   "source": [
    "```haskell\n",
    "id x . f ≡ f\n",
    "f . id x ≡ f\n",
    "```"
   ]
  },
  {
   "cell_type": "markdown",
   "metadata": {},
   "source": [
    "## Example"
   ]
  },
  {
   "cell_type": "code",
   "execution_count": null,
   "metadata": {
    "collapsed": true
   },
   "outputs": [],
   "source": [
    "type Hask = (->)\n",
    "\n",
    "instance Category Hask where\n",
    "  id x = x\n",
    "  (f . g) x = f (g x)"
   ]
  },
  {
   "cell_type": "markdown",
   "metadata": {},
   "source": [
    "# Functor"
   ]
  },
  {
   "cell_type": "code",
   "execution_count": null,
   "metadata": {
    "collapsed": false
   },
   "outputs": [],
   "source": [
    "class (Category c, Category d) => Functor c d t where\n",
    "  fmap :: c a b -> d (t a) (t b)"
   ]
  },
  {
   "cell_type": "markdown",
   "metadata": {},
   "source": [
    "```haskell\n",
    "fmap id ≡ id\n",
    "fmap (a . b) ≡ (fmap a) . (fmap b)\n",
    "```"
   ]
  },
  {
   "cell_type": "markdown",
   "metadata": {},
   "source": [
    "## Example"
   ]
  },
  {
   "cell_type": "code",
   "execution_count": null,
   "metadata": {
    "collapsed": false
   },
   "outputs": [],
   "source": [
    "instance Functor Hask Hask [] where\n",
    "  fmap f [] = []\n",
    "  fmap f (x:xs) = f x : (fmap f xs)"
   ]
  },
  {
   "cell_type": "markdown",
   "metadata": {},
   "source": [
    "# Natural Transformations"
   ]
  },
  {
   "cell_type": "code",
   "execution_count": null,
   "metadata": {
    "collapsed": false
   },
   "outputs": [],
   "source": [
    "type Nat f g = forall a. f a -> g a"
   ]
  },
  {
   "cell_type": "markdown",
   "metadata": {},
   "source": [
    "```haskell\n",
    "fmap f . g ≡ g . fmap f\n",
    "```"
   ]
  },
  {
   "cell_type": "markdown",
   "metadata": {},
   "source": [
    "## Example"
   ]
  },
  {
   "cell_type": "code",
   "execution_count": null,
   "metadata": {
    "collapsed": true
   },
   "outputs": [],
   "source": [
    "headMay :: forall a. [a] -> Maybe a\n",
    "headMay []     = Nothing\n",
    "headMay (x:xs) = Just x"
   ]
  },
  {
   "cell_type": "markdown",
   "metadata": {},
   "source": [
    "# Monad"
   ]
  },
  {
   "cell_type": "code",
   "execution_count": null,
   "metadata": {
    "collapsed": false
   },
   "outputs": [],
   "source": [
    "class Functor c c f => Monad c f where\n",
    "  return :: c a b -> f (c a b)\n",
    "  join :: f (f (c a b)) -> f (c a b)"
   ]
  },
  {
   "cell_type": "markdown",
   "metadata": {},
   "source": [
    "```haskell\n",
    "fmap g . return = return . g\n",
    "fmap g . join = join . fmap (fmap g)\n",
    "join . fmap join = join . join\n",
    "join . return = id = join . fmap return\n",
    "```"
   ]
  },
  {
   "cell_type": "markdown",
   "metadata": {},
   "source": [
    "## Example"
   ]
  },
  {
   "cell_type": "code",
   "execution_count": null,
   "metadata": {
    "collapsed": false
   },
   "outputs": [],
   "source": [
    "instance Monad Hask [] where\n",
    "    return x = [x]\n",
    "    join (sublist:xs) = sublist ++ join xs "
   ]
  }
 ],
 "metadata": {
  "kernelspec": {
   "display_name": "Haskell",
   "language": "haskell",
   "name": "haskell"
  },
  "language_info": {
   "codemirror_mode": "ihaskell",
   "file_extension": ".hs",
   "name": "haskell",
   "version": "7.10.2"
  }
 },
 "nbformat": 4,
 "nbformat_minor": 0
}
