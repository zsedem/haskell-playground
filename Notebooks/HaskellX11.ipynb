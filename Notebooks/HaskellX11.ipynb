{
 "cells": [
  {
   "cell_type": "markdown",
   "metadata": {},
   "source": [
    "# Examples of X11 window drawing in haskell\n",
    "\n",
    "These will be a lot of example how to create windows in haskell, because I plan to write something like dzen,\n",
    "but usable from the xmonad with pure haskell code without the need of creation other processes.\n",
    "\n",
    "Source of knowledge\n",
    " * https://wiki.haskell.org/X_window_programming_in_Haskell"
   ]
  },
  {
   "cell_type": "code",
   "execution_count": 10,
   "metadata": {
    "collapsed": false
   },
   "outputs": [],
   "source": [
    "import Data.Bits\n",
    "import Graphics.X11.Xlib\n",
    "import Graphics.X11.Xlib.Extras\n",
    "import Control.Concurrent (threadDelay)\n",
    " \n",
    "helloWorld :: IO ()\n",
    "helloWorld = do\n",
    " dpy <- openDisplay \"\"\n",
    " let dflt = defaultScreen dpy\n",
    "     border = blackPixel dpy dflt\n",
    "     background = whitePixel dpy dflt\n",
    " rootw <- rootWindow dpy dflt\n",
    " win <- createSimpleWindow dpy rootw 0 0 100 100 1 border background\n",
    " setTextProperty dpy win \"Hello World\" wM_NAME\n",
    " -- make window visible\n",
    " mapWindow dpy win\n",
    " sync dpy False\n",
    " threadDelay (10 * 100000)\n",
    " destroyWindow dpy win\n",
    " closeDisplay dpy\n",
    " "
   ]
  },
  {
   "cell_type": "code",
   "execution_count": 11,
   "metadata": {
    "collapsed": false
   },
   "outputs": [],
   "source": [
    "unmanagedWindow = do\n",
    " dpy <- openDisplay \"\"\n",
    " let dflt = defaultScreen dpy\n",
    "     scr = defaultScreenOfDisplay dpy\n",
    " rootw <- rootWindow dpy dflt\n",
    " win <- mkUnmanagedWindow dpy scr rootw 0 0 100 100\n",
    " setTextProperty dpy win \"Hello World\" wM_NAME\n",
    " mapWindow dpy win\n",
    " sync dpy False\n",
    " threadDelay (10 * 100000)\n",
    " destroyWindow dpy win\n",
    " closeDisplay dpy\n",
    "\n",
    " \n",
    "mkUnmanagedWindow :: Display\n",
    " -> Screen\n",
    " -> Window\n",
    " -> Position\n",
    " -> Position\n",
    " -> Dimension\n",
    " -> Dimension\n",
    " -> IO Window\n",
    "mkUnmanagedWindow dpy scr rw x y w h = do\n",
    " let visual = defaultVisualOfScreen scr\n",
    "     attrmask = cWOverrideRedirect .|. cWBorderPixel .|. cWBackPixel\n",
    " win <- allocaSetWindowAttributes $ \\attributes -> do\n",
    "     set_override_redirect attributes True\n",
    "     set_background_pixel attributes $ whitePixel dpy (defaultScreen dpy)\n",
    "     set_border_pixel attributes $ blackPixel dpy (defaultScreen dpy)\n",
    "     createWindow dpy rw x y w h 1 (defaultDepthOfScreen scr) inputOutput visual attrmask attributes\n",
    " return win"
   ]
  },
  {
   "cell_type": "code",
   "execution_count": 14,
   "metadata": {
    "collapsed": false
   },
   "outputs": [
    {
     "data": {
      "text/plain": []
     },
     "metadata": {},
     "output_type": "display_data"
    }
   ],
   "source": [
    "unmanagedWindow"
   ]
  },
  {
   "cell_type": "code",
   "execution_count": null,
   "metadata": {
    "collapsed": true
   },
   "outputs": [],
   "source": []
  }
 ],
 "metadata": {
  "kernelspec": {
   "display_name": "Haskell",
   "language": "haskell",
   "name": "haskell"
  }
 },
 "nbformat": 4,
 "nbformat_minor": 0
}
