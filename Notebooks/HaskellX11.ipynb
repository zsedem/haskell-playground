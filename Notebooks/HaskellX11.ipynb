{
 "cells": [
  {
   "cell_type": "markdown",
   "metadata": {},
   "source": [
    "# Examples of X11 window drawing in haskell\n",
    "\n",
    "These will be a lot of example how to create windows in haskell, because I plan to write something like dzen,\n",
    "but usable from the xmonad with pure haskell code without the need of creation other processes.\n",
    "\n",
    "Source of knowledge\n",
    " * https://wiki.haskell.org/X_window_programming_in_Haskell"
   ]
  },
  {
   "cell_type": "code",
   "execution_count": 1,
   "metadata": {
    "collapsed": false
   },
   "outputs": [],
   "source": [
    "import Data.Bits\n",
    "import Graphics.X11.Xlib\n",
    "import Graphics.X11.Xlib.Extras\n",
    "import Control.Concurrent (threadDelay)\n",
    " \n",
    "helloWorld :: IO ()\n",
    "helloWorld = do\n",
    " dpy <- openDisplay \"\"\n",
    " let dflt = defaultScreen dpy\n",
    "     border = blackPixel dpy dflt\n",
    "     background = whitePixel dpy dflt\n",
    " rootw <- rootWindow dpy dflt\n",
    " win <- createSimpleWindow dpy rootw 0 0 100 100 1 border background\n",
    " setTextProperty dpy win \"Hello World\" wM_NAME\n",
    " -- make window visible\n",
    " mapWindow dpy win\n",
    " sync dpy False\n",
    " threadDelay (10 * 100000)\n",
    " destroyWindow dpy win\n",
    " closeDisplay dpy\n",
    " "
   ]
  },
  {
   "cell_type": "code",
   "execution_count": 5,
   "metadata": {
    "collapsed": false
   },
   "outputs": [],
   "source": [
    "unmanagedWindow = runWindowManageContext $ do\n",
    " win <- mkUnmanagedWindow 0 0 100 100\n",
    " context <- get\n",
    " liftIO $ do\n",
    "   let dpy = context ^.curDisplay\n",
    "   setTextProperty dpy win \"Hello World\" wM_NAME\n",
    "   mapWindow dpy win\n",
    "   sync dpy False\n",
    "   threadDelay (10 * 100000)\n",
    "   destroyWindow dpy win\n",
    "\n",
    " \n",
    "mkUnmanagedWindow :: Position\n",
    "                  -> Position\n",
    "                  -> Dimension\n",
    "                  -> Dimension\n",
    "                  -> WindowManage Window\n",
    "mkUnmanagedWindow x y w h = do\n",
    "     context <- get\n",
    "     liftIO $ do\n",
    "         let scr = context ^. curScreen\n",
    "             dpy = context ^. curDisplay\n",
    "             rw = context ^. curRootWindow\n",
    "             visual = defaultVisualOfScreen scr\n",
    "             attrmask = cWOverrideRedirect .|. cWBorderPixel .|. cWBackPixel\n",
    "         win <- allocaSetWindowAttributes $ \\attributes -> do\n",
    "             set_override_redirect attributes True\n",
    "             set_background_pixel attributes $ whitePixel dpy (defaultScreen dpy)\n",
    "             set_border_pixel attributes $ blackPixel dpy (defaultScreen dpy)\n",
    "             createWindow dpy rw x y w h 1 (defaultDepthOfScreen scr) inputOutput visual attrmask attributes\n",
    "         return win"
   ]
  },
  {
   "cell_type": "code",
   "execution_count": 6,
   "metadata": {
    "collapsed": false
   },
   "outputs": [
    {
     "data": {
      "text/plain": []
     },
     "metadata": {},
     "output_type": "display_data"
    }
   ],
   "source": [
    "unmanagedWindow"
   ]
  },
  {
   "cell_type": "code",
   "execution_count": 2,
   "metadata": {
    "collapsed": false
   },
   "outputs": [],
   "source": [
    "{-# LANGUAGE GeneralizedNewtypeDeriving #-}\n",
    "import Control.Monad.Trans.State hiding(get, put)\n",
    "import Control.Monad.State(MonadState, get, put)\n",
    "import Control.Monad.IO.Class(MonadIO, liftIO)\n",
    "\n",
    "newtype WindowManageContext = WindowManageContext (Display, Screen, Window) \n",
    "newtype WindowManage a = WindowManage {unWindowManage::StateT WindowManageContext IO a} deriving \n",
    "        (Functor, Applicative, Monad, MonadIO, MonadState WindowManageContext)"
   ]
  },
  {
   "cell_type": "code",
   "execution_count": 3,
   "metadata": {
    "collapsed": false
   },
   "outputs": [],
   "source": [
    "runWindowManageContext :: WindowManage a -> IO a\n",
    "runWindowManageContext (WindowManage wrappedMonad) = do \n",
    "        dpy <- openDisplay \"\"\n",
    "        let dflt = defaultScreen dpy\n",
    "            scr = defaultScreenOfDisplay dpy\n",
    "        rootw <- rootWindow dpy dflt\n",
    "        result <- evalStateT wrappedMonad (WindowManageContext (dpy, scr, rootw))\n",
    "        closeDisplay dpy\n",
    "        return result\n",
    "        \n"
   ]
  },
  {
   "cell_type": "code",
   "execution_count": 4,
   "metadata": {
    "collapsed": false
   },
   "outputs": [],
   "source": [
    "import Control.Lens\n",
    "\n",
    "curDisplay = lens getter setter\n",
    "  where setter (WindowManageContext tuple) w = WindowManageContext $ tuple & _1 .~ w\n",
    "        getter (WindowManageContext tuple) = tuple ^. _1\n",
    "\n",
    "curScreen = lens getter setter\n",
    "  where setter (WindowManageContext tuple) w = WindowManageContext $ tuple & _2 .~ w\n",
    "        getter (WindowManageContext tuple) = tuple ^. _2\n",
    "\n",
    "curRootWindow = lens getter setter\n",
    "  where setter (WindowManageContext tuple) w = WindowManageContext $ tuple & _3 .~ w\n",
    "        getter (WindowManageContext tuple) = tuple ^. _3\n"
   ]
  },
  {
   "cell_type": "code",
   "execution_count": null,
   "metadata": {
    "collapsed": false
   },
   "outputs": [],
   "source": [
    ":t curScreen"
   ]
  },
  {
   "cell_type": "code",
   "execution_count": null,
   "metadata": {
    "collapsed": true
   },
   "outputs": [],
   "source": []
  }
 ],
 "metadata": {
  "kernelspec": {
   "display_name": "Haskell",
   "language": "haskell",
   "name": "haskell"
  }
 },
 "nbformat": 4,
 "nbformat_minor": 0
}
