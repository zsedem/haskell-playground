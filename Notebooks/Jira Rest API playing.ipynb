{
 "cells": [
  {
   "cell_type": "code",
   "execution_count": null,
   "metadata": {
    "collapsed": false
   },
   "outputs": [],
   "source": [
    "{-# LANGUAGE OverloadedStrings #-}\n",
    "import Control.Lens\n",
    "import Network.Wreq\n",
    "import Data.String\n",
    "import qualified Data.Text as T\n",
    "import Data.Aeson.Lens\n",
    "import Data.HashMap.Strict as HP"
   ]
  },
  {
   "cell_type": "code",
   "execution_count": null,
   "metadata": {
    "collapsed": false
   },
   "outputs": [],
   "source": [
    "options = defaults \n",
    "            & param \"jql\" .~ [\"issuekey = REST-248 OR issuekey = SANDBOX-49\"]\n",
    "            & param \"maxResults\" .~ [fromString $ show 5]\n",
    "\n",
    "issues <- getWith options \"https://ecosystem.atlassian.net/rest/api/2/search\""
   ]
  },
  {
   "cell_type": "code",
   "execution_count": null,
   "metadata": {
    "collapsed": false
   },
   "outputs": [],
   "source": [
    "issueIds issues =\n",
    "        issues ^. responseBody \n",
    "                 . key \"issues\" \n",
    "                 . _Array \n",
    "                 . traverse \n",
    "                 . key \"key\"\n",
    "                 . _String\n",
    "createJQL issueIds = T.intercalate \" OR \" $\n",
    "                     IHaskellPrelude.map (\"issuekey = \" `T.append`) issueIds "
   ]
  },
  {
   "cell_type": "code",
   "execution_count": null,
   "metadata": {
    "collapsed": false
   },
   "outputs": [],
   "source": [
    "issuesArray = (issues ^. responseBody \n",
    "                        . key \"issues\" \n",
    "                        . _Array)\n",
    "(over each (\\issue -> (issue ^. key \"key\" ._String,\n",
    "                       issue ^.. key \"fields\" \n",
    "                               . key \"subtasks\" \n",
    "                               . _Array . traverse \n",
    "                               . key \"key\"\n",
    "                               . _String )) \n",
    "      issuesArray)"
   ]
  },
  {
   "cell_type": "code",
   "execution_count": null,
   "metadata": {
    "collapsed": false
   },
   "outputs": [],
   "source": [
    "(issues ^.. responseBody \n",
    "          . key \"issues\" \n",
    "          . _Array \n",
    "          . traverse \n",
    "          . key \"fields\"\n",
    "          )"
   ]
  }
 ],
 "metadata": {
  "kernelspec": {
   "display_name": "Haskell",
   "language": "haskell",
   "name": "haskell"
  }
 },
 "nbformat": 4,
 "nbformat_minor": 0
}
