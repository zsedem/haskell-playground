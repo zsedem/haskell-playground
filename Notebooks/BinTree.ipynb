{
 "cells": [
  {
   "cell_type": "code",
   "execution_count": null,
   "metadata": {
    "collapsed": true
   },
   "outputs": [],
   "source": [
    "{-# LANGUAGE OverloadedStrings #-}\n",
    "import qualified Data.Map as M\n",
    "import IHaskell.Display\n",
    "import Data.Text(Text)\n",
    "import Text.Printf\n",
    "data Tree itemType = ConstTree (M.Map itemType (Tree itemType)) deriving(Show)\n",
    "leaf = ConstTree M.empty\n",
    "constTree = ConstTree . M.fromList\n",
    "unConstTree (ConstTree tree)= tree\n",
    "treeSize (ConstTree tree) = M.fold (\\y x -> x + treeSize y) 1 tree\n",
    "leafNumbers (ConstTree tree) | M.null tree = 1\n",
    "                             | otherwise   = M.fold (+) 0 $ M.map leafNumbers tree\n",
    "numOfFirstChildren = M.size . unConstTree\n",
    "isEmpty = M.null . unConstTree\n",
    "listChildren = M.toList . unConstTree\n",
    "exampleTree:: Tree Text\n",
    "exampleTree = constTree [(\"Father\", constTree [(\"Me\", constTree [(\"Daughter\", leaf),(\"Son\", leaf)]),(\"Sibling\", leaf)])]"
   ]
  },
  {
   "cell_type": "code",
   "execution_count": null,
   "metadata": {
    "collapsed": false
   },
   "outputs": [],
   "source": [
    "{-# LANGUAGE OverloadedStrings #-}\n",
    "\n",
    "import Text.Blaze.Svg11 ((!))\n",
    "import Data.Text(Text)\n",
    "import Control.Monad(forM_)\n",
    "import qualified Text.Blaze.Svg11 as S\n",
    "import qualified Text.Blaze.Svg11.Attributes as A\n",
    "import Text.Blaze.Svg.Renderer.String (renderSvg)\n",
    "\n",
    "nodesize = 10\n",
    "nodecolor = \"#000000\"\n",
    "padding = 2\n",
    "\n",
    "svgDoc :: Tree Text-> S.Svg\n",
    "svgDoc origTree = S.docTypeSvg ! A.version \"1.1\" ! A.width \"300\" ! A.height \"1000\" $ renderforest origTree 0 0\n",
    "\n",
    "\n",
    "-- html $ renderSvg svgDoc\n",
    "node :: Text -> Int -> Int -> S.Markup\n",
    "node name x y =  S.rect ! A.height (S.toValue nodesize)\n",
    "                        ! A.width \"100\"\n",
    "                             ! A.strokeWidth \"1\" \n",
    "                             ! A.stroke nodecolor\n",
    "                             ! A.x (S.toValue $ x * (padding + 100))\n",
    "                             ! A.y (S.toValue $ y * (padding + nodesize))\n",
    "\n",
    "rendertree :: Text -> Tree Text -> Int -> Int -> S.Markup\n",
    "\n",
    "rendertree name tree x y = do \n",
    "    node name x y\n",
    "    renderforest tree (x + 1) y\n",
    "\n",
    "renderforest tree x y = \n",
    "    forM_ (zip (formerChildrenSums tree) $ listChildren tree) $ \\(offset, (value, child)) ->\n",
    "        rendertree value child x (offset + y)\n",
    "        \n",
    "formerChildrenSums tree = [sum $ map (leafNumbers.snd) $ take n (listChildren tree)| n <-[0..]]"
   ]
  },
  {
   "cell_type": "code",
   "execution_count": null,
   "metadata": {
    "collapsed": false
   },
   "outputs": [],
   "source": [
    "\n",
    "{-# LANGUAGE FlexibleInstances #-}\n",
    "instance IHaskellDisplay (Tree Text) where\n",
    "   display raw_tree = return $ Display [html $ renderSvg $ svgDoc raw_tree]"
   ]
  }
 ],
 "metadata": {
  "kernelspec": {
   "display_name": "Haskell",
   "language": "haskell",
   "name": "haskell"
  }
 },
 "nbformat": 4,
 "nbformat_minor": 0
}
