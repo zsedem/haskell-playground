{
 "cells": [
  {
   "cell_type": "markdown",
   "metadata": {},
   "source": [
    "# This is a nice example use of ImplicitParameters\n",
    "Basically what you should see, that there are services all around, but they passed implicitly between layers"
   ]
  },
  {
   "cell_type": "code",
   "execution_count": 1,
   "metadata": {
    "collapsed": false
   },
   "outputs": [],
   "source": [
    "{-# LANGUAGE ImplicitParams #-}"
   ]
  },
  {
   "cell_type": "markdown",
   "metadata": {},
   "source": [
    "## Services"
   ]
  },
  {
   "cell_type": "code",
   "execution_count": 2,
   "metadata": {
    "collapsed": false
   },
   "outputs": [],
   "source": [
    "data DatabaseService = DatabaseService { getData :: IO [String]}\n",
    "type NameFilterService = String -> Bool\n",
    "type NameGetterService = IO [String]\n",
    "\n",
    "-- Notice, that there are no type definition, since we should define all implicit parameters type\n",
    "getNames = filter ?nameFilterService <$> getData ?database\n",
    "\n",
    "-- Notice that there is no knowledge in this layer about the creation of the services\n",
    "concatenateNames = concat <$> ?getNames\n"
   ]
  },
  {
   "cell_type": "markdown",
   "metadata": {},
   "source": [
    "## Production"
   ]
  },
  {
   "cell_type": "code",
   "execution_count": 3,
   "metadata": {
    "collapsed": false
   },
   "outputs": [
    {
     "data": {
      "text/plain": [
       "\"AndyJames\""
      ]
     },
     "metadata": {},
     "output_type": "display_data"
    }
   ],
   "source": [
    "import Data.Char(isUpper)\n",
    "\n",
    "readingFromFile :: IO [String]\n",
    "readingFromFile = return [\"kutya\", \"Andy\", \"macska\", \"James\"]\n",
    "\n",
    "createGetNames = let ?nameFilterService = isUpper . head\n",
    "                 in getNames\n",
    "          \n",
    "\n",
    "main = do let ?database = DatabaseService {getData=readingFromFile}\n",
    "          let ?getNames = createGetNames\n",
    "          concatenatedNames <- concatenateNames\n",
    "          print concatenatedNames\n",
    "\n",
    "main"
   ]
  },
  {
   "cell_type": "markdown",
   "metadata": {},
   "source": [
    "## Test"
   ]
  },
  {
   "cell_type": "code",
   "execution_count": 4,
   "metadata": {
    "collapsed": false
   },
   "outputs": [
    {
     "data": {
      "text/plain": [
       "PASSED\n",
       "PASSED\n",
       "PASSED\n",
       "PASSED"
      ]
     },
     "metadata": {},
     "output_type": "display_data"
    }
   ],
   "source": [
    "data Result = PASSED | FAILED deriving(Show)\n",
    "assert a = if a then return PASSED  else return FAILED\n",
    "\n",
    "test = mapM_ (>>=print) [ createTestCase [\"Kakas\",\"kutya\",\"barany\"], createTestCase []\n",
    "                        , testConcat [] [], testConcat [\"A\", \"B\"] \"AB\"]\n",
    "\n",
    "\n",
    "createTestCase test_data = do let ?database = DatabaseService {getData=return test_data}\n",
    "                                  ?nameFilterService = const True\n",
    "                              names <- getNames \n",
    "                              assert (names == test_data)\n",
    "\n",
    "-- Notice that we only have to mock one service, which in production uses much more\n",
    "testConcat input output = do let ?getNames = return input\n",
    "                             result <- concatenateNames\n",
    "                             assert (result == output)\n",
    "                             \n",
    "\n",
    "test"
   ]
  }
 ],
 "metadata": {
  "kernelspec": {
   "display_name": "Haskell",
   "language": "haskell",
   "name": "haskell"
  }
 },
 "nbformat": 4,
 "nbformat_minor": 0
}
